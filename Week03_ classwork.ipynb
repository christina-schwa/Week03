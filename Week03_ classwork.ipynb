{
 "cells": [
  {
   "cell_type": "code",
   "execution_count": 12,
   "metadata": {},
   "outputs": [],
   "source": [
    "def three(a,b):\n",
    "    sumnum=a+b\n",
    "    diff=(a-b)\n",
    "    prod=a*b\n",
    "    if sumnum==0:\n",
    "        print(\"a+b=zero\")\n",
    "    else:\n",
    "        print(\"a+b=\",sumnum)\n",
    "    if diff==0:\n",
    "        print(\"a-b=zero\")\n",
    "    else:\n",
    "        print(\"a-b=\",diff)\n",
    "    if prod==0:\n",
    "        print(\"a*b=zero\")\n",
    "    else:\n",
    "        print(\"a*b=\",prod)\n"
   ]
  },
  {
   "cell_type": "code",
   "execution_count": 13,
   "metadata": {},
   "outputs": [
    {
     "name": "stdout",
     "output_type": "stream",
     "text": [
      "a+b=zero\n",
      "a-b=zero\n",
      "a*b=zero\n"
     ]
    }
   ],
   "source": [
    "three(0,0)"
   ]
  },
  {
   "cell_type": "code",
   "execution_count": 14,
   "metadata": {},
   "outputs": [
    {
     "name": "stdout",
     "output_type": "stream",
     "text": [
      "a+b= 8\n",
      "a-b= -2\n",
      "a*b= 15\n"
     ]
    }
   ],
   "source": [
    "three(3,5)"
   ]
  },
  {
   "cell_type": "code",
   "execution_count": 15,
   "metadata": {},
   "outputs": [
    {
     "name": "stdout",
     "output_type": "stream",
     "text": [
      "a+b= 6\n",
      "a-b=zero\n",
      "a*b= 9\n"
     ]
    }
   ],
   "source": [
    "three(3,3)"
   ]
  },
  {
   "cell_type": "code",
   "execution_count": null,
   "metadata": {},
   "outputs": [],
   "source": []
  }
 ],
 "metadata": {
  "kernelspec": {
   "display_name": "Python 3",
   "language": "python",
   "name": "python3"
  },
  "language_info": {
   "codemirror_mode": {
    "name": "ipython",
    "version": 3
   },
   "file_extension": ".py",
   "mimetype": "text/x-python",
   "name": "python",
   "nbconvert_exporter": "python",
   "pygments_lexer": "ipython3",
   "version": "3.8.5"
  }
 },
 "nbformat": 4,
 "nbformat_minor": 4
}
